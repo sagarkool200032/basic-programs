{
 "cells": [
  {
   "cell_type": "code",
   "execution_count": 1,
   "metadata": {},
   "outputs": [
    {
     "name": "stdout",
     "output_type": "stream",
     "text": [
      "Hello World\n"
     ]
    }
   ],
   "source": [
    "print('Hello World')"
   ]
  },
  {
   "cell_type": "code",
   "execution_count": 2,
   "metadata": {},
   "outputs": [
    {
     "name": "stdout",
     "output_type": "stream",
     "text": [
      "new\n"
     ]
    }
   ],
   "source": [
    "print('new')"
   ]
  },
  {
   "cell_type": "markdown",
   "metadata": {},
   "source": [
    "notes which are comments"
   ]
  },
  {
   "cell_type": "code",
   "execution_count": 11,
   "metadata": {},
   "outputs": [],
   "source": [
    "#hello"
   ]
  },
  {
   "cell_type": "code",
   "execution_count": 3,
   "metadata": {},
   "outputs": [],
   "source": [
    "#assign variable\n",
    "name=\"abcdefghijkf\"\n"
   ]
  },
  {
   "cell_type": "code",
   "execution_count": 4,
   "metadata": {},
   "outputs": [
    {
     "data": {
      "text/plain": [
       "'defgh'"
      ]
     },
     "execution_count": 4,
     "metadata": {},
     "output_type": "execute_result"
    }
   ],
   "source": [
    "#index and slicing\n",
    "name[3:8]"
   ]
  },
  {
   "cell_type": "code",
   "execution_count": 5,
   "metadata": {},
   "outputs": [
    {
     "data": {
      "text/plain": [
       "12"
      ]
     },
     "execution_count": 5,
     "metadata": {},
     "output_type": "execute_result"
    }
   ],
   "source": [
    "len(name)"
   ]
  },
  {
   "cell_type": "code",
   "execution_count": 6,
   "metadata": {},
   "outputs": [
    {
     "data": {
      "text/plain": [
       "'fkjihgfedcba'"
      ]
     },
     "execution_count": 6,
     "metadata": {},
     "output_type": "execute_result"
    }
   ],
   "source": [
    "name[::-1]\n"
   ]
  },
  {
   "cell_type": "code",
   "execution_count": 7,
   "metadata": {},
   "outputs": [],
   "source": [
    "#concat\n",
    "myName=\"sam\""
   ]
  },
  {
   "cell_type": "code",
   "execution_count": 8,
   "metadata": {},
   "outputs": [],
   "source": [
    "last = myName[1:]"
   ]
  },
  {
   "cell_type": "code",
   "execution_count": 10,
   "metadata": {},
   "outputs": [
    {
     "name": "stdout",
     "output_type": "stream",
     "text": [
      "pam\n"
     ]
    }
   ],
   "source": [
    "right = \"p\"+last\n",
    "print(right)"
   ]
  },
  {
   "cell_type": "code",
   "execution_count": 10,
   "metadata": {},
   "outputs": [
    {
     "name": "stdout",
     "output_type": "stream",
     "text": [
      "ragaS si emaN yM\n"
     ]
    }
   ],
   "source": [
    "#Reverse of a string\n",
    "y = \"My Name is Sagar\"\n",
    "z=y[::-1]\n",
    "print(z)"
   ]
  },
  {
   "cell_type": "code",
   "execution_count": 1,
   "metadata": {},
   "outputs": [
    {
     "data": {
      "text/plain": [
       "False"
      ]
     },
     "execution_count": 1,
     "metadata": {},
     "output_type": "execute_result"
    }
   ],
   "source": [
    "1>2\n"
   ]
  },
  {
   "cell_type": "code",
   "execution_count": 3,
   "metadata": {},
   "outputs": [
    {
     "name": "stdout",
     "output_type": "stream",
     "text": [
      "ragas\n"
     ]
    }
   ],
   "source": [
    "name = \"sagar\"\n",
    "v = name[::-1]\n",
    "print(v)"
   ]
  },
  {
   "cell_type": "code",
   "execution_count": 4,
   "metadata": {},
   "outputs": [
    {
     "data": {
      "text/plain": [
       "'C:\\\\Users\\\\sagar\\\\Desktop'"
      ]
     },
     "execution_count": 4,
     "metadata": {},
     "output_type": "execute_result"
    }
   ],
   "source": [
    "pwd"
   ]
  },
  {
   "cell_type": "code",
   "execution_count": 4,
   "metadata": {},
   "outputs": [
    {
     "name": "stdout",
     "output_type": "stream",
     "text": [
      "Writing myfile.txt\n"
     ]
    }
   ],
   "source": [
    "%%writefile myfile.txt\n",
    "this is 1 line\n",
    "this is 2 line\n",
    "this is 3 line \n",
    "and so on"
   ]
  },
  {
   "cell_type": "code",
   "execution_count": 5,
   "metadata": {},
   "outputs": [],
   "source": [
    "myfile=open('myfile.txt')"
   ]
  },
  {
   "cell_type": "code",
   "execution_count": 6,
   "metadata": {},
   "outputs": [
    {
     "data": {
      "text/plain": [
       "'this is 1 line\\nthis is 2 line\\nthis is 3 line \\nand so on'"
      ]
     },
     "execution_count": 6,
     "metadata": {},
     "output_type": "execute_result"
    }
   ],
   "source": [
    "myfile.read()"
   ]
  },
  {
   "cell_type": "code",
   "execution_count": 8,
   "metadata": {},
   "outputs": [
    {
     "data": {
      "text/plain": [
       "0"
      ]
     },
     "execution_count": 8,
     "metadata": {},
     "output_type": "execute_result"
    }
   ],
   "source": [
    "myfile.seek(0)"
   ]
  },
  {
   "cell_type": "code",
   "execution_count": 15,
   "metadata": {},
   "outputs": [
    {
     "data": {
      "text/plain": [
       "['this is 1 line\\n', 'this is 2 line\\n', 'this is 3 line \\n', 'and so on']"
      ]
     },
     "execution_count": 15,
     "metadata": {},
     "output_type": "execute_result"
    }
   ],
   "source": [
    "myfile.readlines()"
   ]
  },
  {
   "cell_type": "code",
   "execution_count": 20,
   "metadata": {
    "scrolled": true
   },
   "outputs": [],
   "source": [
    "testfile=open(\"D:\\\\Steam\\\\SV\\\\myfile.txt\")"
   ]
  },
  {
   "cell_type": "code",
   "execution_count": 21,
   "metadata": {},
   "outputs": [
    {
     "data": {
      "text/plain": [
       "['adgagfasdfadsg\\n', 'a\\n', 'asdfasgarga\\n', 'ragadhardhadg\\n', 'agadg']"
      ]
     },
     "execution_count": 21,
     "metadata": {},
     "output_type": "execute_result"
    }
   ],
   "source": [
    "testfile.readlines()"
   ]
  },
  {
   "cell_type": "code",
   "execution_count": 22,
   "metadata": {},
   "outputs": [],
   "source": [
    "myfile.close()"
   ]
  },
  {
   "cell_type": "code",
   "execution_count": 23,
   "metadata": {},
   "outputs": [],
   "source": [
    "testfile.close()"
   ]
  },
  {
   "cell_type": "code",
   "execution_count": 3,
   "metadata": {},
   "outputs": [
    {
     "name": "stdout",
     "output_type": "stream",
     "text": [
      "1\n",
      "2\n",
      "3\n",
      "4\n",
      "5\n",
      "6\n",
      "7\n",
      "8\n",
      "9\n",
      "10\n"
     ]
    }
   ],
   "source": [
    "x=[1,2,3,4,5,6,7,8,9,10]\n",
    "for num in x:\n",
    "    print(num)"
   ]
  },
  {
   "cell_type": "code",
   "execution_count": 7,
   "metadata": {},
   "outputs": [
    {
     "name": "stdout",
     "output_type": "stream",
     "text": [
      "55\n"
     ]
    }
   ],
   "source": [
    "sum1=0\n",
    "for num in x:\n",
    "    sum1=sum1+num\n",
    "print(sum1)"
   ]
  },
  {
   "cell_type": "code",
   "execution_count": 8,
   "metadata": {},
   "outputs": [
    {
     "name": "stdout",
     "output_type": "stream",
     "text": [
      "odd\n",
      "2\n",
      "odd\n",
      "4\n",
      "odd\n",
      "6\n",
      "odd\n",
      "8\n",
      "odd\n",
      "10\n"
     ]
    }
   ],
   "source": [
    "for _ in x:\n",
    "    if _%2==0:\n",
    "        print(_)\n",
    "    else:\n",
    "        print(\"odd\")"
   ]
  },
  {
   "cell_type": "code",
   "execution_count": 27,
   "metadata": {},
   "outputs": [
    {
     "name": "stdout",
     "output_type": "stream",
     "text": [
      "r\n",
      "a\n",
      "g\n",
      "a\n",
      "s\n"
     ]
    }
   ],
   "source": [
    "#while loop\n",
    "name1= 'sagar'\n",
    "l=len(name)\n",
    "x=l-1\n",
    "while x >= 0:\n",
    "    index = name1[x]\n",
    "    x = x-1\n",
    "    print(index)"
   ]
  },
  {
   "cell_type": "code",
   "execution_count": 14,
   "metadata": {},
   "outputs": [
    {
     "name": "stdout",
     "output_type": "stream",
     "text": [
      "---> s  \n",
      "---> a  \n",
      "---> g  \n",
      "---> a  \n",
      "---> r  \n"
     ]
    }
   ],
   "source": [
    "#for loop\n",
    "name1= 'sagar'\n",
    "for _ in name1:\n",
    "    print(f\"---> {_}  \")"
   ]
  },
  {
   "cell_type": "code",
   "execution_count": 4,
   "metadata": {},
   "outputs": [
    {
     "name": "stdout",
     "output_type": "stream",
     "text": [
      "2\n",
      "4\n",
      "6\n",
      "8\n"
     ]
    }
   ],
   "source": [
    "list2 = [(1,2),(3,4),(5,6),(7,8)]\n",
    "for t1,t2 in list2:\n",
    "    print(t2)"
   ]
  },
  {
   "cell_type": "code",
   "execution_count": 11,
   "metadata": {},
   "outputs": [
    {
     "name": "stdout",
     "output_type": "stream",
     "text": [
      "--->0\n",
      "--->1\n",
      "--->2\n",
      "--->3\n",
      "--->4\n",
      "--->5\n",
      "--->6\n",
      "--->7\n",
      "--->8\n",
      "--->9\n",
      "--->loop over\n"
     ]
    }
   ],
   "source": [
    "x=0\n",
    "while x<10:\n",
    "    print(f\"--->{x}\")\n",
    "    x=x+1\n",
    "else:\n",
    "    print(\"--->loop over\")"
   ]
  },
  {
   "cell_type": "code",
   "execution_count": 2,
   "metadata": {},
   "outputs": [
    {
     "name": "stdout",
     "output_type": "stream",
     "text": [
      "value -->0\n",
      "closer to 7\n",
      "value -->1\n",
      "closer to 7\n",
      "value -->2\n",
      "closer to 7\n",
      "value -->3\n",
      "closer to 7\n",
      "value -->4\n",
      "closer to 7\n",
      "value -->5\n",
      "closer to 7\n",
      "value -->6\n",
      "closer to 7\n",
      "value -->7\n"
     ]
    }
   ],
   "source": [
    "x=0\n",
    "while x<10:\n",
    "    print(f\"value -->{x}\")\n",
    "    \n",
    "    if x==7:\n",
    "        break\n",
    "    else:\n",
    "        print(\"closer to 7\")\n",
    "        x+=1"
   ]
  },
  {
   "cell_type": "code",
   "execution_count": 19,
   "metadata": {},
   "outputs": [
    {
     "name": "stdout",
     "output_type": "stream",
     "text": [
      "0\n",
      "1\n",
      "2\n",
      "3\n",
      "4\n",
      "5\n",
      "6\n",
      "7\n",
      "8\n",
      "9\n",
      "10\n"
     ]
    }
   ],
   "source": [
    "for num1 in range(11):\n",
    "    print(num1)"
   ]
  },
  {
   "cell_type": "code",
   "execution_count": 20,
   "metadata": {},
   "outputs": [
    {
     "name": "stdout",
     "output_type": "stream",
     "text": [
      "whats your name ?sagar\n"
     ]
    },
    {
     "data": {
      "text/plain": [
       "'sagar'"
      ]
     },
     "execution_count": 20,
     "metadata": {},
     "output_type": "execute_result"
    }
   ],
   "source": [
    "input(\"whats your name ?\")"
   ]
  },
  {
   "cell_type": "code",
   "execution_count": 3,
   "metadata": {},
   "outputs": [
    {
     "name": "stdout",
     "output_type": "stream",
     "text": [
      "2\n",
      "4\n",
      "6\n",
      "8\n",
      "10\n"
     ]
    }
   ],
   "source": [
    "for yts in range(2,11,2):\n",
    "    print (yts)"
   ]
  },
  {
   "cell_type": "code",
   "execution_count": 10,
   "metadata": {},
   "outputs": [
    {
     "name": "stdout",
     "output_type": "stream",
     "text": [
      "(0, 's')\n",
      "(1, 'a')\n",
      "(2, 'g')\n",
      "(3, 'a')\n",
      "(4, 'r')\n"
     ]
    }
   ],
   "source": [
    "word='sagar'\n",
    "for en in enumerate(word):\n",
    "    print(en)"
   ]
  },
  {
   "cell_type": "code",
   "execution_count": 29,
   "metadata": {},
   "outputs": [
    {
     "name": "stdout",
     "output_type": "stream",
     "text": [
      "no. is 1 and alphabet is a\n",
      "no. is 2 and alphabet is b\n",
      "no. is 3 and alphabet is c\n"
     ]
    }
   ],
   "source": [
    "mylist1 = [1,2,3]\n",
    "mylist2 = ['a','b','c']\n",
    "\n",
    "nl= zip(mylist1,mylist2)\n",
    "for a,b in nl:\n",
    "    print(f\"no. is {a} and alphabet is {b}\")"
   ]
  },
  {
   "cell_type": "code",
   "execution_count": 30,
   "metadata": {},
   "outputs": [
    {
     "name": "stdout",
     "output_type": "stream",
     "text": [
      "Your age ?19\n"
     ]
    }
   ],
   "source": [
    "result = int(input(\"Your age ?\"))"
   ]
  },
  {
   "cell_type": "code",
   "execution_count": 31,
   "metadata": {},
   "outputs": [
    {
     "data": {
      "text/plain": [
       "19"
      ]
     },
     "execution_count": 31,
     "metadata": {},
     "output_type": "execute_result"
    }
   ],
   "source": [
    "result"
   ]
  },
  {
   "cell_type": "code",
   "execution_count": 32,
   "metadata": {},
   "outputs": [
    {
     "data": {
      "text/plain": [
       "int"
      ]
     },
     "execution_count": 32,
     "metadata": {},
     "output_type": "execute_result"
    }
   ],
   "source": [
    "type(result)"
   ]
  },
  {
   "cell_type": "code",
   "execution_count": 38,
   "metadata": {},
   "outputs": [],
   "source": [
    "#List Comprehension\n",
    "mylist1 = [num**2 for num in range(1,11) if num%2==0]"
   ]
  },
  {
   "cell_type": "code",
   "execution_count": 39,
   "metadata": {},
   "outputs": [
    {
     "data": {
      "text/plain": [
       "[4, 16, 36, 64, 100]"
      ]
     },
     "execution_count": 39,
     "metadata": {},
     "output_type": "execute_result"
    }
   ],
   "source": [
    "mylist1"
   ]
  },
  {
   "cell_type": "code",
   "execution_count": 42,
   "metadata": {},
   "outputs": [],
   "source": [
    "oddneven = [num if num%2==0 else \"odd\" for num in range(0,11)]"
   ]
  },
  {
   "cell_type": "code",
   "execution_count": 43,
   "metadata": {},
   "outputs": [
    {
     "data": {
      "text/plain": [
       "[0, 'odd', 2, 'odd', 4, 'odd', 6, 'odd', 8, 'odd', 10]"
      ]
     },
     "execution_count": 43,
     "metadata": {},
     "output_type": "execute_result"
    }
   ],
   "source": [
    "oddneven"
   ]
  },
  {
   "cell_type": "code",
   "execution_count": 44,
   "metadata": {},
   "outputs": [],
   "source": [
    "tableof2 = [x*y for x in [2] for y in range(1,11)]"
   ]
  },
  {
   "cell_type": "code",
   "execution_count": 45,
   "metadata": {},
   "outputs": [
    {
     "data": {
      "text/plain": [
       "[2, 4, 6, 8, 10, 12, 14, 16, 18, 20]"
      ]
     },
     "execution_count": 45,
     "metadata": {},
     "output_type": "execute_result"
    }
   ],
   "source": [
    "tableof2"
   ]
  },
  {
   "cell_type": "code",
   "execution_count": 56,
   "metadata": {},
   "outputs": [],
   "source": [
    "tableof3 = []\n",
    "for x in [3]:\n",
    "    for y in range(1,11):\n",
    "        tableof3.append(x*y)"
   ]
  },
  {
   "cell_type": "code",
   "execution_count": 57,
   "metadata": {},
   "outputs": [
    {
     "data": {
      "text/plain": [
       "[3, 6, 9, 12, 15, 18, 21, 24, 27, 30]"
      ]
     },
     "execution_count": 57,
     "metadata": {},
     "output_type": "execute_result"
    }
   ],
   "source": [
    "tableof3"
   ]
  },
  {
   "cell_type": "code",
   "execution_count": 1,
   "metadata": {},
   "outputs": [],
   "source": [
    "ml=[1,2,3]"
   ]
  },
  {
   "cell_type": "code",
   "execution_count": 2,
   "metadata": {},
   "outputs": [
    {
     "name": "stdout",
     "output_type": "stream",
     "text": [
      "Help on built-in function insert:\n",
      "\n",
      "insert(...) method of builtins.list instance\n",
      "    L.insert(index, object) -- insert object before index\n",
      "\n"
     ]
    }
   ],
   "source": [
    "help(ml.insert)"
   ]
  },
  {
   "cell_type": "code",
   "execution_count": 27,
   "metadata": {},
   "outputs": [],
   "source": [
    "#Functions\n",
    "\n",
    "def greet(name='NAME'):\n",
    "    return(\"Hello  \" + name)\n",
    "\n",
    " "
   ]
  },
  {
   "cell_type": "code",
   "execution_count": 28,
   "metadata": {},
   "outputs": [
    {
     "data": {
      "text/plain": [
       "'Hello  sagar'"
      ]
     },
     "execution_count": 28,
     "metadata": {},
     "output_type": "execute_result"
    }
   ],
   "source": [
    "greet('sagar')"
   ]
  },
  {
   "cell_type": "code",
   "execution_count": 29,
   "metadata": {},
   "outputs": [],
   "source": [
    "def add(n1,n2):\n",
    "    return n1+n2"
   ]
  },
  {
   "cell_type": "code",
   "execution_count": 22,
   "metadata": {},
   "outputs": [
    {
     "data": {
      "text/plain": [
       "9"
      ]
     },
     "execution_count": 22,
     "metadata": {},
     "output_type": "execute_result"
    }
   ],
   "source": [
    "add(4,5)"
   ]
  },
  {
   "cell_type": "code",
   "execution_count": 25,
   "metadata": {},
   "outputs": [],
   "source": [
    "result = add(5,8)"
   ]
  },
  {
   "cell_type": "code",
   "execution_count": 26,
   "metadata": {},
   "outputs": [
    {
     "data": {
      "text/plain": [
       "13"
      ]
     },
     "execution_count": 26,
     "metadata": {},
     "output_type": "execute_result"
    }
   ],
   "source": [
    "result"
   ]
  },
  {
   "cell_type": "code",
   "execution_count": 30,
   "metadata": {},
   "outputs": [],
   "source": [
    "#PigLatin\n",
    "def pig(word):\n",
    "    fchar = word[0]\n",
    "    \n",
    "    if fchar in 'aieou':\n",
    "        new = word+'ay'\n",
    "    else:\n",
    "        new = word[1:]+fchar+'ay'\n",
    "        \n",
    "    return new\n"
   ]
  },
  {
   "cell_type": "code",
   "execution_count": 34,
   "metadata": {},
   "outputs": [
    {
     "data": {
      "text/plain": [
       "'appleay'"
      ]
     },
     "execution_count": 34,
     "metadata": {},
     "output_type": "execute_result"
    }
   ],
   "source": [
    "pig('apple')"
   ]
  },
  {
   "cell_type": "code",
   "execution_count": 8,
   "metadata": {},
   "outputs": [
    {
     "name": "stdout",
     "output_type": "stream",
     "text": [
      "your name ?sagar verma\n",
      "sv\n"
     ]
    }
   ],
   "source": [
    "my = input(\"your name ?\")\n",
    "y=\"\"\n",
    "newmy = my.split()\n",
    "for name in newmy:\n",
    "    z = name[0]\n",
    "    y = y+z\n",
    "print(y)\n",
    "\n",
    "    \n",
    "  "
   ]
  },
  {
   "cell_type": "code",
   "execution_count": 114,
   "metadata": {},
   "outputs": [],
   "source": [
    "def myfunc(x):\n",
    "    out = []\n",
    "    for i in range(len(x)):\n",
    "        if i%2==0:\n",
    "            out.append(x[i].lower())\n",
    "        else:\n",
    "            out.append(x[i].upper())\n",
    "    \n",
    "    return ''.join(out)\n"
   ]
  },
  {
   "cell_type": "code",
   "execution_count": 127,
   "metadata": {},
   "outputs": [
    {
     "data": {
      "text/plain": [
       "'sAgA'"
      ]
     },
     "execution_count": 127,
     "metadata": {},
     "output_type": "execute_result"
    }
   ],
   "source": [
    "myfunc('saga')"
   ]
  },
  {
   "cell_type": "code",
   "execution_count": 125,
   "metadata": {},
   "outputs": [
    {
     "name": "stdout",
     "output_type": "stream",
     "text": [
      "0\n",
      "1\n",
      "2\n",
      "3\n",
      "4\n"
     ]
    }
   ],
   "source": [
    "for num in range(0,5):\n",
    "    print(num)"
   ]
  },
  {
   "cell_type": "code",
   "execution_count": 126,
   "metadata": {},
   "outputs": [],
   "source": [
    "def myfunc(args):\n",
    "\n",
    "   \n",
    "\n",
    "    new = args.upper()\n",
    "\n",
    "    limit = len(args)\n",
    "\n",
    "    ll = limit - 1\n",
    "\n",
    "    x=0\n",
    "\n",
    "    y=1\n",
    "\n",
    "    new1=\"\"\n",
    "\n",
    "    while x <= ll-1:\n",
    "\n",
    "        new1 = new1+new[x].lower()+new[y].upper()\n",
    "\n",
    "        x = x + 2\n",
    "\n",
    "        y = y + 2\n",
    " \n",
    "\n",
    "    if limit%2==0:\n",
    "\n",
    "        return new1\n",
    "\n",
    "    else:\n",
    "\n",
    "        return new1+args[ll]"
   ]
  },
  {
   "cell_type": "code",
   "execution_count": 31,
   "metadata": {},
   "outputs": [],
   "source": [
    "def argsnkwargs(*args,**kwargs):\n",
    "    if 'juice' and 'fruit' in kwargs:\n",
    "        print(f\"I like {','.join(args)}  and my favourite fruit is {kwargs['fruit']}\")\n",
    "        print(f\"Can I have some {kwargs['juice']} juice plss ?\")\n",
    "    else:\n",
    "        pass\n"
   ]
  },
  {
   "cell_type": "code",
   "execution_count": 32,
   "metadata": {},
   "outputs": [
    {
     "name": "stdout",
     "output_type": "stream",
     "text": [
      "I like eggs,roti  and my favourite fruit is cherries\n",
      "Can I have some orange juice plss ?\n"
     ]
    }
   ],
   "source": [
    "argsnkwargs('eggs','roti',fruit='cherries',juice='orange')"
   ]
  },
  {
   "cell_type": "code",
   "execution_count": 35,
   "metadata": {},
   "outputs": [
    {
     "name": "stdout",
     "output_type": "stream",
     "text": [
      "29.5\n"
     ]
    }
   ],
   "source": [
    "n =(100-70.5)\n",
    "print(n)"
   ]
  },
  {
   "cell_type": "code",
   "execution_count": 61,
   "metadata": {},
   "outputs": [],
   "source": [
    "def even_check(args):\n",
    "    if args % 2 == 0:\n",
    "        return args\n",
    "    else:\n",
    "        return 'odd'"
   ]
  },
  {
   "cell_type": "code",
   "execution_count": 62,
   "metadata": {},
   "outputs": [],
   "source": [
    "v = [1,2,3,4,5]"
   ]
  },
  {
   "cell_type": "code",
   "execution_count": 63,
   "metadata": {},
   "outputs": [
    {
     "name": "stdout",
     "output_type": "stream",
     "text": [
      "odd\n",
      "2\n",
      "odd\n",
      "4\n",
      "odd\n"
     ]
    }
   ],
   "source": [
    "for name in map(even_check,v):\n",
    "    print(name)"
   ]
  },
  {
   "cell_type": "code",
   "execution_count": 64,
   "metadata": {},
   "outputs": [
    {
     "data": {
      "text/plain": [
       "['odd', 2, 'odd', 4, 'odd']"
      ]
     },
     "execution_count": 64,
     "metadata": {},
     "output_type": "execute_result"
    }
   ],
   "source": [
    "list(map(even_check,v))"
   ]
  },
  {
   "cell_type": "code",
   "execution_count": 65,
   "metadata": {},
   "outputs": [],
   "source": [
    "def even_checker(args):\n",
    "    return args % 2 == 0\n",
    "        "
   ]
  },
  {
   "cell_type": "code",
   "execution_count": 67,
   "metadata": {},
   "outputs": [
    {
     "data": {
      "text/plain": [
       "[2, 4]"
      ]
     },
     "execution_count": 67,
     "metadata": {},
     "output_type": "execute_result"
    }
   ],
   "source": [
    "list(filter(even_checker,v))"
   ]
  },
  {
   "cell_type": "code",
   "execution_count": 25,
   "metadata": {},
   "outputs": [],
   "source": [
    "# Tic Tac Toe (Project 1)\n",
    "from IPython.display import clear_output\n",
    "\n",
    "def game():\n",
    "    \n",
    "    a=' '\n",
    "    b=\" \"\n",
    "    c=\" \"\n",
    "    d=' '\n",
    "    e=\" \"\n",
    "    f=\" \"\n",
    "    g=' '\n",
    "    h=' '\n",
    "    f=' '\n",
    "    i=\" \"\n",
    "    x=1\n",
    "    sign1 = input('Hello Player1 You Wanna Choose X or O ?')\n",
    "    if sign1 == 'X' or sign1 =='x':\n",
    "        sign2 = 'O'\n",
    "    else:\n",
    "        sign2 = 'X'\n",
    "    print(f\"Okay Player 1 is {sign1} and Player 2 is {sign2}\")\n",
    "    \n",
    "    while x<=5 :\n",
    "        \n",
    "        userinput1 = int(input('Player 1 choose position 1-9:  '))\n",
    "        clear_output()\n",
    "        if userinput1 == 1:\n",
    "            a=sign1\n",
    "        if userinput1 == 2 and b =='':\n",
    "            b=sign1\n",
    "            if userinput1 == 2 and b !='':\n",
    "                print('error')\n",
    "                continue\n",
    "        \n",
    "        if userinput1 == 3:\n",
    "            c=sign1\n",
    "        if userinput1 == 4:\n",
    "            d=sign1\n",
    "        if userinput1 == 5:\n",
    "            e=sign1\n",
    "        if userinput1 == 6:\n",
    "            f=sign1\n",
    "        if userinput1 == 7:\n",
    "            g=sign1\n",
    "        if userinput1 == 8:\n",
    "            h=sign1\n",
    "        if userinput1 == 9:\n",
    "            i=sign1\n",
    "            \n",
    "        if c==e==g=='X':\n",
    "            clear_output()\n",
    "            print('you won')\n",
    "            break\n",
    "        if x ==5:\n",
    "            print('Draw')\n",
    "            break\n",
    "        des =(\"\\n          |            |\\n\"+\"     \"+g+\"    |     \"+h+\"      |     \"+i+\"\\n\"+\"          |            |\\n\"+\"          |            |\\n\"+\n",
    "         \n",
    "          \"------------------------------------\\n\"+\"          |            |\\n\"+\"     \"+d+\"    |     \"+e+\"      |     \"+f+\"\\n\"+\n",
    "          \"          |            |\\n\"+\"          |            |\\n\"+\n",
    "          \"------------------------------------\\n\"+\"          |            |\\n\"+\"     \"+a+\"    |     \"+b+\"      |     \"+c+\"\\n\"+\n",
    "          \"          |            |\\n\"+\"          |            |\\n\")\n",
    "        print(des)\n",
    "        \n",
    "    \n",
    "        \n",
    "        \n",
    "        \n",
    "        userinput2 = int(input('Player 2 choose position 1-9'))\n",
    "        clear_output()\n",
    "        if userinput2 == 1:\n",
    "            a=sign2\n",
    "        if userinput2 == 2:\n",
    "            b=sign2\n",
    "        if userinput2 == 3:\n",
    "            c=sign2\n",
    "        if userinput2 == 4:\n",
    "            d=sign2\n",
    "        if userinput2 == 5:\n",
    "            e=sign2\n",
    "        if userinput2 == 6:\n",
    "            f=sign2\n",
    "        if userinput2 == 7:\n",
    "            g=sign2\n",
    "        if userinput2 == 8:\n",
    "            h=sign2\n",
    "        if userinput2 == 9:\n",
    "            i=sign2\n",
    "        \n",
    "        x=x+1\n",
    "        des =(\"\\n          |            |\\n\"+\"     \"+g+\"    |     \"+h+\"      |     \"+i+\"\\n\"+\"          |            |\\n\"+\"          |            |\\n\"+\n",
    "         \n",
    "          \"------------------------------------\\n\"+\"          |            |\\n\"+\"     \"+d+\"    |     \"+e+\"      |     \"+f+\"\\n\"+\n",
    "          \"          |            |\\n\"+\"          |            |\\n\"+\n",
    "          \"------------------------------------\\n\"+\"          |            |\\n\"+\"     \"+a+\"    |     \"+b+\"      |     \"+c+\"\\n\"+\n",
    "          \"          |            |\\n\"+\"          |            |\\n\")\n",
    "        \n",
    "        print(des)\n",
    "        \n",
    "    \n",
    "    \n",
    "    \n",
    "    des =(\"\\n          |            |\\n\"+\"     \"+g+\"    |     \"+h+\"      |     \"+i+\"\\n\"+\"          |            |\\n\"+\"          |            |\\n\"+\n",
    "         \n",
    "          \"------------------------------------\\n\"+\"          |            |\\n\"+\"     \"+d+\"    |     \"+e+\"      |     \"+f+\"\\n\"+\n",
    "          \"          |            |\\n\"+\"          |            |\\n\"+\n",
    "          \"------------------------------------\\n\"+\"          |            |\\n\"+\"     \"+a+\"    |     \"+b+\"      |     \"+c+\"\\n\"+\n",
    "          \"          |            |\\n\"+\"          |            |\\n\")\n",
    "\n",
    "    print(des)\n",
    "    \n",
    "    pass"
   ]
  },
  {
   "cell_type": "code",
   "execution_count": 26,
   "metadata": {
    "scrolled": true
   },
   "outputs": [
    {
     "name": "stdout",
     "output_type": "stream",
     "text": [
      "Draw\n",
      "\n",
      "          |            |\n",
      "     x    |     O      |     x\n",
      "          |            |\n",
      "          |            |\n",
      "------------------------------------\n",
      "          |            |\n",
      "     O    |     x      |     O\n",
      "          |            |\n",
      "          |            |\n",
      "------------------------------------\n",
      "          |            |\n",
      "     x    |     O      |     x\n",
      "          |            |\n",
      "          |            |\n",
      "\n"
     ]
    }
   ],
   "source": [
    "game()"
   ]
  },
  {
   "cell_type": "code",
   "execution_count": 3,
   "metadata": {},
   "outputs": [
    {
     "name": "stdout",
     "output_type": "stream",
     "text": [
      "7\n"
     ]
    }
   ],
   "source": [
    "import random\n",
    "flip = random.randint(0,10)\n",
    "print(flip)"
   ]
  },
  {
   "cell_type": "code",
   "execution_count": 24,
   "metadata": {},
   "outputs": [
    {
     "name": "stdout",
     "output_type": "stream",
     "text": [
      "3\n"
     ]
    },
    {
     "data": {
      "text/plain": [
       "<map at 0x1a9bc173208>"
      ]
     },
     "execution_count": 24,
     "metadata": {},
     "output_type": "execute_result"
    }
   ],
   "source": [
    "arr = map(int, input().split())\n",
    "arr"
   ]
  },
  {
   "cell_type": "code",
   "execution_count": 35,
   "metadata": {},
   "outputs": [
    {
     "name": "stdout",
     "output_type": "stream",
     "text": [
      "5\n",
      "12345\n"
     ]
    }
   ],
   "source": [
    "\n",
    "n = int(input())\n",
    "mylist = [str(num) for num in range (1,n+1)]\n",
    "new = ''.join(mylist)\n",
    "\n",
    "print(new)\n",
    "\n"
   ]
  },
  {
   "cell_type": "code",
   "execution_count": 2,
   "metadata": {},
   "outputs": [
    {
     "name": "stdout",
     "output_type": "stream",
     "text": [
      "12\n",
      "insert 0 5\n",
      "insert 1 10\n",
      "insert 0 6\n",
      "print\n",
      "[6, 5, 10]\n",
      "remove 6\n",
      "append 9\n",
      "append 1\n",
      "sort\n",
      "print\n",
      "[1, 5, 9, 10]\n",
      "pop\n",
      "reverse\n",
      "print\n",
      "[9, 5, 1]\n"
     ]
    }
   ],
   "source": [
    "\n",
    "newlist = []\n",
    "N = int(input())\n",
    "x=1\n",
    "\n",
    "while x<=N:\n",
    "    \n",
    "    user = (input())\n",
    "    newuser = user.split()\n",
    "    nword = newuser[0]\n",
    "    num = (newuser[1:])\n",
    "    \n",
    "    \n",
    "    \n",
    "    if 'print' in nword:\n",
    "        print(newlist)\n",
    "        x = x+1\n",
    "        continue\n",
    "        \n",
    "    if 'sort' in nword:\n",
    "        newlist.sort()\n",
    "        x = x+1\n",
    "        continue\n",
    "        \n",
    "    if 'pop' in nword:\n",
    "        newlist.pop()\n",
    "        x = x+1\n",
    "        continue\n",
    "        \n",
    "    if 'reverse' in nword:\n",
    "        newlist.reverse()\n",
    "        x = x+1\n",
    "        continue\n",
    "   \n",
    "    newlist1 = [int(name) for name in num]\n",
    "    num1 = newlist1[0]\n",
    "    \n",
    "        \n",
    "    if 'remove' in nword:\n",
    "        newlist.remove(num1)\n",
    "        x = x+1\n",
    "        continue\n",
    "\n",
    "    if 'append' in nword:\n",
    "        newlist.append(num1)\n",
    "        x = x+1\n",
    "        continue  \n",
    "        \n",
    "    num2 = newlist1[1]\n",
    "\n",
    "    if 'insert' in nword:\n",
    "        newlist.insert(num1,num2)\n",
    "        x = x+1\n",
    "        continue "
   ]
  },
  {
   "cell_type": "code",
   "execution_count": null,
   "metadata": {},
   "outputs": [],
   "source": [
    "newlist\n"
   ]
  },
  {
   "cell_type": "code",
   "execution_count": 18,
   "metadata": {},
   "outputs": [
    {
     "name": "stdout",
     "output_type": "stream",
     "text": [
      "insert 5 8\n",
      "['insert', '5', '8']\n",
      "insert\n",
      "['5', '8']\n",
      "[5, 8]\n"
     ]
    }
   ],
   "source": [
    "\n",
    "print(newuser)\n",
    "word = newuser[0]\n",
    "num = (newuser[1:])\n",
    "newlist = [int(name) for name in num]\n",
    "print(word)\n",
    "print(num)\n",
    "print(newlist)\n",
    "\n"
   ]
  },
  {
   "cell_type": "code",
   "execution_count": 12,
   "metadata": {},
   "outputs": [
    {
     "name": "stdout",
     "output_type": "stream",
     "text": [
      "['a', 'a', 'g', 'r', 's']\n"
     ]
    }
   ],
   "source": [
    "\n",
    "name = \"sagar\"\n",
    "list1 = [num for num in name]\n",
    "list1.sort()\n",
    "print(list1)"
   ]
  },
  {
   "cell_type": "code",
   "execution_count": 4,
   "metadata": {},
   "outputs": [
    {
     "name": "stdout",
     "output_type": "stream",
     "text": [
      "4\n",
      "h\n",
      "20\n",
      "[('h', 20.0)]\n",
      "b\n",
      "20\n",
      "[('h', 20.0), ('b', 20.0)]\n",
      "k\n",
      "19\n",
      "[('h', 20.0), ('b', 20.0), ('k', 19.0)]\n",
      "t\n",
      "19\n",
      "[('h', 20.0), ('b', 20.0), ('k', 19.0), ('t', 19.0)]\n",
      "[('b', 20.0), ('h', 20.0), ('k', 19.0), ('t', 19.0)]\n",
      "[20.0, 20.0, 19.0, 19.0]\n",
      "19.0\n",
      "19.0\n",
      "b\n",
      "h\n",
      "20.0\n"
     ]
    }
   ],
   "source": [
    "x = int((input()))\n",
    "nlist = []\n",
    "slist = []\n",
    "for _ in range(1,x+1):\n",
    "    \n",
    "    name = input()\n",
    "    score = input()\n",
    "    \n",
    "    nlist.insert((x-1),(name,float(score)))\n",
    "    print(nlist)\n",
    "   \n",
    "        \n",
    "nlist.sort()\n",
    "print(nlist)\n",
    "\n",
    "slist = [b for a,b in nlist]\n",
    "minn = min(slist)\n",
    "print(slist)\n",
    "while minn in slist:\n",
    "    minn = min(slist)\n",
    "    print(minn)\n",
    "    slist.remove(minn)\n",
    "\n",
    "sh = min(slist)\n",
    "for a,b in nlist:\n",
    "    if sh in (a,b):\n",
    "        print(a)\n",
    "        continue\n",
    "    \n",
    "print(sh)\n",
    "\n",
    "    \n",
    "    "
   ]
  },
  {
   "cell_type": "code",
   "execution_count": 70,
   "metadata": {},
   "outputs": [
    {
     "name": "stdout",
     "output_type": "stream",
     "text": [
      "Sagar786\n",
      "True 1\n",
      "True 2\n",
      "True 3\n",
      "True 4\n",
      "True 5\n"
     ]
    }
   ],
   "source": [
    "s = input()\n",
    "#1\n",
    "j=0\n",
    "while j < len(s):\n",
    "    if s[j].isalnum():\n",
    "        print('True 1')\n",
    "        break\n",
    "    j = j+1\n",
    "else:print('False1')\n",
    "    \n",
    "\n",
    "#2\n",
    "m=0\n",
    "while m < len(s):\n",
    "    if s[m].isalpha():\n",
    "        print('True 2')\n",
    "        break\n",
    "    m = m+1\n",
    "else:print('False2')\n",
    "    \n",
    "#3\n",
    "n=0\n",
    "while n < len(s):\n",
    "    if s[n].isdigit():\n",
    "        print('True 3')\n",
    "        break\n",
    "    n = n+1\n",
    "else:print('False3')\n",
    "\n",
    "#4\n",
    "x=0\n",
    "while x < len(s):\n",
    "    if s[x].islower():\n",
    "        print('True 4')\n",
    "        break\n",
    "    x = x+1\n",
    "else:print('False4')\n",
    "\n",
    "#5\n",
    "y=0\n",
    "while y < len(s):\n",
    "    if s[y].isupper():\n",
    "        print('True 5')\n",
    "        break\n",
    "    y = y+1\n",
    "else:print('False5')"
   ]
  },
  {
   "cell_type": "code",
   "execution_count": 12,
   "metadata": {
    "scrolled": true
   },
   "outputs": [
    {
     "name": "stdout",
     "output_type": "stream",
     "text": [
      "3\n",
      "50 100 50\n",
      "['50', '100', '50']\n",
      "[50, 100, 50]\n",
      "100\n",
      "50\n"
     ]
    }
   ],
   "source": [
    "n = int(input())\n",
    "inn = (input())\n",
    "nn = inn.split()\n",
    "print(nn)\n",
    "newlist = [int(num) for num in nn]\n",
    "print(newlist)\n",
    "maxxx = max(newlist)\n",
    "print(maxxx)\n",
    "\n",
    "while maxxx in newlist:\n",
    "    newlist.remove(maxxx)\n",
    "nmaxx = max(newlist)\n",
    "\n",
    "print(nmaxx)\n",
    "    \n"
   ]
  },
  {
   "cell_type": "code",
   "execution_count": 1,
   "metadata": {},
   "outputs": [
    {
     "name": "stdout",
     "output_type": "stream",
     "text": [
      "sagar\n",
      "5\n",
      "ragas\n"
     ]
    }
   ],
   "source": [
    "# Reverse Of String\n",
    "num = (input())\n",
    "l = len(num)\n",
    "print(l)\n",
    "x = l-1\n",
    "new = ''\n",
    "while x >=0:\n",
    "    new = new + num[x]\n",
    "    x -=1\n",
    "print(new)"
   ]
  },
  {
   "cell_type": "code",
   "execution_count": 9,
   "metadata": {},
   "outputs": [],
   "source": [
    "# Class , Attributes , Method\n",
    "\n",
    "#class\n",
    "class Dog():\n",
    "    \n",
    "    #Class object attribute\n",
    "    species = 'Mammal'\n",
    "    \n",
    "    #Attributes\n",
    "    def __init__(self,name,breed,spots):\n",
    "        \n",
    "        self.name = name\n",
    "        self.breed = breed\n",
    "        self.spots = spots\n",
    "        \n",
    "    #Methods\n",
    "    def bark(self,number):\n",
    "        print(f\"My name is {self.name} and number is {number}\")\n",
    "        \n",
    "    def speak(self):\n",
    "        return self.name + \" WOOF\"\n"
   ]
  },
  {
   "cell_type": "code",
   "execution_count": 10,
   "metadata": {},
   "outputs": [],
   "source": [
    "MyDog = Dog(name='cherry',breed='rotweiler',spots = False)"
   ]
  },
  {
   "cell_type": "code",
   "execution_count": 11,
   "metadata": {},
   "outputs": [
    {
     "data": {
      "text/plain": [
       "__main__.Dog"
      ]
     },
     "execution_count": 11,
     "metadata": {},
     "output_type": "execute_result"
    }
   ],
   "source": [
    "type(MyDog)"
   ]
  },
  {
   "cell_type": "code",
   "execution_count": 12,
   "metadata": {},
   "outputs": [
    {
     "data": {
      "text/plain": [
       "'rotweiler'"
      ]
     },
     "execution_count": 12,
     "metadata": {},
     "output_type": "execute_result"
    }
   ],
   "source": [
    "MyDog.breed"
   ]
  },
  {
   "cell_type": "code",
   "execution_count": 38,
   "metadata": {},
   "outputs": [
    {
     "data": {
      "text/plain": [
       "'cherry'"
      ]
     },
     "execution_count": 38,
     "metadata": {},
     "output_type": "execute_result"
    }
   ],
   "source": [
    "MyDog.name"
   ]
  },
  {
   "cell_type": "code",
   "execution_count": 39,
   "metadata": {},
   "outputs": [
    {
     "data": {
      "text/plain": [
       "False"
      ]
     },
     "execution_count": 39,
     "metadata": {},
     "output_type": "execute_result"
    }
   ],
   "source": [
    "MyDog.spots"
   ]
  },
  {
   "cell_type": "code",
   "execution_count": 42,
   "metadata": {},
   "outputs": [
    {
     "data": {
      "text/plain": [
       "'Mammal'"
      ]
     },
     "execution_count": 42,
     "metadata": {},
     "output_type": "execute_result"
    }
   ],
   "source": [
    "MyDog.species"
   ]
  },
  {
   "cell_type": "code",
   "execution_count": 41,
   "metadata": {},
   "outputs": [
    {
     "name": "stdout",
     "output_type": "stream",
     "text": [
      "My name is cherry and number is 5\n"
     ]
    }
   ],
   "source": [
    "MyDog.bark(5)"
   ]
  },
  {
   "cell_type": "code",
   "execution_count": 84,
   "metadata": {},
   "outputs": [
    {
     "data": {
      "text/plain": [
       "'cherry WOOF'"
      ]
     },
     "execution_count": 84,
     "metadata": {},
     "output_type": "execute_result"
    }
   ],
   "source": [
    "MyDog.speak()"
   ]
  },
  {
   "cell_type": "code",
   "execution_count": 13,
   "metadata": {},
   "outputs": [],
   "source": [
    "#Class\n",
    "class Circle():\n",
    "    \n",
    "    #class object attribute\n",
    "    pi = 3.14\n",
    "    \n",
    "    #attributes\n",
    "    def __init__(self,radius=1):\n",
    "        self.radius = radius\n",
    "        self.area = Circle.pi*radius*radius\n",
    "        \n",
    "    #Method\n",
    "    def circle_circumference(self):\n",
    "        return 2*Circle.pi*self.radius\n",
    "    "
   ]
  },
  {
   "cell_type": "code",
   "execution_count": 14,
   "metadata": {},
   "outputs": [],
   "source": [
    "circle_fn = Circle(30)"
   ]
  },
  {
   "cell_type": "code",
   "execution_count": 15,
   "metadata": {},
   "outputs": [
    {
     "data": {
      "text/plain": [
       "2826.0"
      ]
     },
     "execution_count": 15,
     "metadata": {},
     "output_type": "execute_result"
    }
   ],
   "source": [
    "circle_fn.area"
   ]
  },
  {
   "cell_type": "code",
   "execution_count": 16,
   "metadata": {},
   "outputs": [
    {
     "data": {
      "text/plain": [
       "30"
      ]
     },
     "execution_count": 16,
     "metadata": {},
     "output_type": "execute_result"
    }
   ],
   "source": [
    "circle_fn.radius"
   ]
  },
  {
   "cell_type": "code",
   "execution_count": 17,
   "metadata": {},
   "outputs": [
    {
     "data": {
      "text/plain": [
       "3.14"
      ]
     },
     "execution_count": 17,
     "metadata": {},
     "output_type": "execute_result"
    }
   ],
   "source": [
    "circle_fn.pi"
   ]
  },
  {
   "cell_type": "code",
   "execution_count": 18,
   "metadata": {},
   "outputs": [
    {
     "data": {
      "text/plain": [
       "188.4"
      ]
     },
     "execution_count": 18,
     "metadata": {},
     "output_type": "execute_result"
    }
   ],
   "source": [
    "circle_fn.circle_circumference()"
   ]
  },
  {
   "cell_type": "code",
   "execution_count": 9,
   "metadata": {},
   "outputs": [],
   "source": [
    "#capwords\n",
    "from string import capwords\n",
    "def solve(s):\n",
    "    return capwords(s)"
   ]
  },
  {
   "cell_type": "code",
   "execution_count": 10,
   "metadata": {},
   "outputs": [
    {
     "data": {
      "text/plain": [
       "'1 W 2 R 3g'"
      ]
     },
     "execution_count": 10,
     "metadata": {},
     "output_type": "execute_result"
    }
   ],
   "source": [
    "solve('1 w 2 r 3g')"
   ]
  },
  {
   "cell_type": "code",
   "execution_count": 94,
   "metadata": {},
   "outputs": [
    {
     "data": {
      "text/plain": [
       "2.5"
      ]
     },
     "execution_count": 94,
     "metadata": {},
     "output_type": "execute_result"
    }
   ],
   "source": [
    "5**1/2\n"
   ]
  },
  {
   "cell_type": "code",
   "execution_count": 131,
   "metadata": {},
   "outputs": [],
   "source": [
    "#inheritance\n",
    "\n",
    "#base class\n",
    "class Animal():\n",
    "    \n",
    "    def __init__(self):\n",
    "        print('Animal created')\n",
    "        \n",
    "    def who_am_i(self):\n",
    "        print('I am Animal')\n",
    "        \n",
    "    def eat(self):\n",
    "        print('I am eating')"
   ]
  },
  {
   "cell_type": "code",
   "execution_count": 132,
   "metadata": {},
   "outputs": [
    {
     "name": "stdout",
     "output_type": "stream",
     "text": [
      "Animal created\n"
     ]
    }
   ],
   "source": [
    "new_animal = Animal()"
   ]
  },
  {
   "cell_type": "code",
   "execution_count": 133,
   "metadata": {},
   "outputs": [
    {
     "name": "stdout",
     "output_type": "stream",
     "text": [
      "I am Animal\n"
     ]
    }
   ],
   "source": [
    "new_animal.who_am_i()"
   ]
  },
  {
   "cell_type": "code",
   "execution_count": 134,
   "metadata": {},
   "outputs": [],
   "source": [
    "#Derive class (Sub Class)\n",
    "\n",
    "class Cat(Animal):\n",
    "    \n",
    "    def __init__(self,name):\n",
    "        Animal.__init__(self)\n",
    "        print('Cat Created')\n",
    "        self.name = name\n",
    "        \n",
    "    def who_am_i(self):\n",
    "        print('I Am Cat')\n",
    "        \n",
    "    def sound(self):\n",
    "        print('MEOW')\n",
    "        \n",
    "    def speak(self):\n",
    "        return self.name + \" Meow\""
   ]
  },
  {
   "cell_type": "code",
   "execution_count": 135,
   "metadata": {},
   "outputs": [
    {
     "name": "stdout",
     "output_type": "stream",
     "text": [
      "Animal created\n",
      "Cat Created\n"
     ]
    }
   ],
   "source": [
    "new_cat = Cat('felix')"
   ]
  },
  {
   "cell_type": "code",
   "execution_count": 136,
   "metadata": {},
   "outputs": [
    {
     "name": "stdout",
     "output_type": "stream",
     "text": [
      "I am eating\n"
     ]
    }
   ],
   "source": [
    "new_cat.eat()"
   ]
  },
  {
   "cell_type": "code",
   "execution_count": 137,
   "metadata": {},
   "outputs": [
    {
     "name": "stdout",
     "output_type": "stream",
     "text": [
      "I Am Cat\n"
     ]
    }
   ],
   "source": [
    "new_cat.who_am_i()"
   ]
  },
  {
   "cell_type": "code",
   "execution_count": 138,
   "metadata": {},
   "outputs": [
    {
     "name": "stdout",
     "output_type": "stream",
     "text": [
      "MEOW\n"
     ]
    }
   ],
   "source": [
    "new_cat.sound()"
   ]
  },
  {
   "cell_type": "code",
   "execution_count": 139,
   "metadata": {},
   "outputs": [
    {
     "data": {
      "text/plain": [
       "'felix Meow'"
      ]
     },
     "execution_count": 139,
     "metadata": {},
     "output_type": "execute_result"
    }
   ],
   "source": [
    "new_cat.speak()"
   ]
  },
  {
   "cell_type": "code",
   "execution_count": 140,
   "metadata": {},
   "outputs": [],
   "source": [
    "# Polymerism\n",
    "def pet_speak(pet):\n",
    "    print(pet.speak())"
   ]
  },
  {
   "cell_type": "code",
   "execution_count": 141,
   "metadata": {},
   "outputs": [
    {
     "name": "stdout",
     "output_type": "stream",
     "text": [
      "felix Meow\n"
     ]
    }
   ],
   "source": [
    "pet_speak(new_cat)"
   ]
  },
  {
   "cell_type": "code",
   "execution_count": 142,
   "metadata": {},
   "outputs": [
    {
     "name": "stdout",
     "output_type": "stream",
     "text": [
      "cherry WOOF\n"
     ]
    }
   ],
   "source": [
    "pet_speak(MyDog)"
   ]
  },
  {
   "cell_type": "code",
   "execution_count": 29,
   "metadata": {},
   "outputs": [],
   "source": [
    "#special Methods\n",
    "\n",
    "class Book():\n",
    "    \n",
    "    def __init__(self,name,author,pages):\n",
    "        self.name = name\n",
    "        self.author = author\n",
    "        self.pages = pages\n",
    "    \n",
    "    def __str__(self):\n",
    "        return f\"{self.name} by {self.author}\"\n",
    "\n",
    "    def __len__(self):\n",
    "        return (self.pages)\n",
    "    \n",
    "    def __del__(self):\n",
    "        print(\"Book Object is deleted\")"
   ]
  },
  {
   "cell_type": "code",
   "execution_count": 30,
   "metadata": {},
   "outputs": [],
   "source": [
    "mybook = Book('python','jose',200)"
   ]
  },
  {
   "cell_type": "code",
   "execution_count": 31,
   "metadata": {},
   "outputs": [
    {
     "name": "stdout",
     "output_type": "stream",
     "text": [
      "python by jose\n"
     ]
    }
   ],
   "source": [
    "print(mybook)"
   ]
  },
  {
   "cell_type": "code",
   "execution_count": 32,
   "metadata": {},
   "outputs": [
    {
     "data": {
      "text/plain": [
       "200"
      ]
     },
     "execution_count": 32,
     "metadata": {},
     "output_type": "execute_result"
    }
   ],
   "source": [
    "len(mybook)"
   ]
  },
  {
   "cell_type": "code",
   "execution_count": 33,
   "metadata": {},
   "outputs": [
    {
     "name": "stdout",
     "output_type": "stream",
     "text": [
      "Book Object is deleted\n"
     ]
    }
   ],
   "source": [
    "del mybook"
   ]
  },
  {
   "cell_type": "code",
   "execution_count": 34,
   "metadata": {},
   "outputs": [
    {
     "name": "stdout",
     "output_type": "stream",
     "text": [
      "*\n",
      "**\n",
      "***\n",
      "****\n",
      "*****\n"
     ]
    }
   ],
   "source": [
    "# Factorial\n",
    "for name in range(1,6):\n",
    "    print('*'*name)"
   ]
  },
  {
   "cell_type": "code",
   "execution_count": 35,
   "metadata": {},
   "outputs": [
    {
     "name": "stdout",
     "output_type": "stream",
     "text": [
      "*****\n",
      "****\n",
      "***\n",
      "**\n",
      "*\n"
     ]
    }
   ],
   "source": [
    "x = 5\n",
    "while x>0:\n",
    "    print('*'*x)\n",
    "    x = x-1"
   ]
  },
  {
   "cell_type": "code",
   "execution_count": 6,
   "metadata": {},
   "outputs": [
    {
     "name": "stdout",
     "output_type": "stream",
     "text": [
      "Add correctly\n"
     ]
    }
   ],
   "source": [
    "# Errors\n",
    "try:\n",
    "    add = 10 + '10'\n",
    "    result = add\n",
    "except:\n",
    "    print('Add correctly')\n",
    "else:print(f\"right answer\\n{result}\")"
   ]
  },
  {
   "cell_type": "code",
   "execution_count": 13,
   "metadata": {},
   "outputs": [
    {
     "name": "stdout",
     "output_type": "stream",
     "text": [
      "runs anyways\n"
     ]
    }
   ],
   "source": [
    "#Error txt file \n",
    "try:\n",
    "    f = open('testfile.txt','w')\n",
    "    f.write(\"This is one line\")\n",
    "except TypeError:\n",
    "    print('you have type error ')\n",
    "except OSError:\n",
    "    print('You have OS error')\n",
    "finally:\n",
    "    print('runs anyways')"
   ]
  },
  {
   "cell_type": "code",
   "execution_count": 23,
   "metadata": {},
   "outputs": [],
   "source": [
    "#Error with loop\n",
    "\n",
    "def check_int():\n",
    "    \n",
    "    while True:\n",
    "        try:x = int(input('Enter a number:  '))\n",
    "        \n",
    "        except:print('Please Enter a valid number')\n",
    "        \n",
    "        else:\n",
    "            print(f\"{x}\\nThank You !\")\n",
    "            break"
   ]
  },
  {
   "cell_type": "code",
   "execution_count": 24,
   "metadata": {},
   "outputs": [
    {
     "name": "stdout",
     "output_type": "stream",
     "text": [
      "Enter a number:  y\n",
      "Please Enter a valid number\n",
      "Enter a number:  6\n",
      "6\n",
      "Thank You !\n"
     ]
    }
   ],
   "source": [
    "check_int()"
   ]
  },
  {
   "cell_type": "code",
   "execution_count": 3,
   "metadata": {},
   "outputs": [],
   "source": [
    "#Returning a function\n",
    "\n",
    "def cool():\n",
    "    \n",
    "    def super_cool():\n",
    "        return('\\t I am super cool')\n",
    "    \n",
    "    return super_cool"
   ]
  },
  {
   "cell_type": "code",
   "execution_count": 11,
   "metadata": {},
   "outputs": [],
   "source": [
    "mycool = cool()"
   ]
  },
  {
   "cell_type": "code",
   "execution_count": 12,
   "metadata": {},
   "outputs": [
    {
     "data": {
      "text/plain": [
       "<function __main__.cool.<locals>.super_cool()>"
      ]
     },
     "execution_count": 12,
     "metadata": {},
     "output_type": "execute_result"
    }
   ],
   "source": [
    "mycool"
   ]
  },
  {
   "cell_type": "code",
   "execution_count": 13,
   "metadata": {},
   "outputs": [
    {
     "data": {
      "text/plain": [
       "'\\t I am super cool'"
      ]
     },
     "execution_count": 13,
     "metadata": {},
     "output_type": "execute_result"
    }
   ],
   "source": [
    "mycool()"
   ]
  },
  {
   "cell_type": "code",
   "execution_count": 14,
   "metadata": {},
   "outputs": [
    {
     "name": "stdout",
     "output_type": "stream",
     "text": [
      "\t I am super cool\n"
     ]
    }
   ],
   "source": [
    "print(mycool())"
   ]
  },
  {
   "cell_type": "code",
   "execution_count": 115,
   "metadata": {},
   "outputs": [],
   "source": [
    "# Function as arguement\n",
    "def hello():\n",
    "    return('Hi Sagar !')"
   ]
  },
  {
   "cell_type": "code",
   "execution_count": 184,
   "metadata": {},
   "outputs": [],
   "source": [
    "def bye(somefunction):\n",
    "    print(somefunction())\n",
    "    print(7)"
   ]
  },
  {
   "cell_type": "code",
   "execution_count": 185,
   "metadata": {},
   "outputs": [
    {
     "name": "stdout",
     "output_type": "stream",
     "text": [
      "Hi Sagar !\n",
      "7\n"
     ]
    }
   ],
   "source": [
    "bye(hello)"
   ]
  },
  {
   "cell_type": "code",
   "execution_count": 26,
   "metadata": {},
   "outputs": [],
   "source": [
    "# Decorator\n",
    "\n",
    "def the_decorator(anyfunc):\n",
    "    \n",
    "    def txtwrap():\n",
    "        print('top layer')\n",
    "        anyfunc()\n",
    "        print('lower layer')\n",
    "    return txtwrap"
   ]
  },
  {
   "cell_type": "code",
   "execution_count": 50,
   "metadata": {},
   "outputs": [],
   "source": [
    "def needs_decorator():\n",
    "    print('Present')"
   ]
  },
  {
   "cell_type": "code",
   "execution_count": 51,
   "metadata": {},
   "outputs": [],
   "source": [
    "ins = the_decorator(needs_decorator)"
   ]
  },
  {
   "cell_type": "code",
   "execution_count": 52,
   "metadata": {},
   "outputs": [
    {
     "data": {
      "text/plain": [
       "<function __main__.the_decorator.<locals>.txtwrap()>"
      ]
     },
     "execution_count": 52,
     "metadata": {},
     "output_type": "execute_result"
    }
   ],
   "source": [
    "ins"
   ]
  },
  {
   "cell_type": "code",
   "execution_count": 56,
   "metadata": {},
   "outputs": [
    {
     "name": "stdout",
     "output_type": "stream",
     "text": [
      "top layer\n",
      "Present\n",
      "lower layer\n"
     ]
    }
   ],
   "source": [
    "ins()"
   ]
  },
  {
   "cell_type": "code",
   "execution_count": 57,
   "metadata": {},
   "outputs": [],
   "source": [
    "#Main Decorator\n",
    "@the_decorator\n",
    "def needs_decorator():\n",
    "    print('Present')"
   ]
  },
  {
   "cell_type": "code",
   "execution_count": 55,
   "metadata": {},
   "outputs": [
    {
     "name": "stdout",
     "output_type": "stream",
     "text": [
      "top layer\n",
      "Present\n",
      "lower layer\n"
     ]
    }
   ],
   "source": [
    "needs_decorator()"
   ]
  },
  {
   "cell_type": "code",
   "execution_count": 73,
   "metadata": {},
   "outputs": [],
   "source": [
    "#yield\n",
    "#cubes\n",
    "def num_cubes(n):\n",
    "    for num in range(n):\n",
    "        yield(num**3)\n",
    "    "
   ]
  },
  {
   "cell_type": "code",
   "execution_count": 74,
   "metadata": {},
   "outputs": [
    {
     "name": "stdout",
     "output_type": "stream",
     "text": [
      "0\n",
      "1\n",
      "8\n",
      "27\n",
      "64\n",
      "125\n",
      "216\n",
      "343\n",
      "512\n",
      "729\n"
     ]
    }
   ],
   "source": [
    "for x in num_cubes(10):\n",
    "    print(x)"
   ]
  },
  {
   "cell_type": "code",
   "execution_count": 92,
   "metadata": {},
   "outputs": [
    {
     "data": {
      "text/plain": [
       "[0, 1, 8, 27, 64, 125, 216, 343, 512, 729]"
      ]
     },
     "execution_count": 92,
     "metadata": {},
     "output_type": "execute_result"
    }
   ],
   "source": [
    "list(num_cubes(10))"
   ]
  },
  {
   "cell_type": "code",
   "execution_count": 91,
   "metadata": {},
   "outputs": [
    {
     "data": {
      "text/plain": [
       "<generator object num_cubes at 0x000001E841DD7830>"
      ]
     },
     "execution_count": 91,
     "metadata": {},
     "output_type": "execute_result"
    }
   ],
   "source": [
    "num_cubes(10)"
   ]
  },
  {
   "cell_type": "code",
   "execution_count": 93,
   "metadata": {},
   "outputs": [],
   "source": [
    "#yield\n",
    "#fibonnaci sequence\n",
    "\n",
    "def fibo(n):\n",
    "    a=1\n",
    "    b=1\n",
    "    for i in range(n):\n",
    "        yield a\n",
    "        a,b = b,a+b"
   ]
  },
  {
   "cell_type": "code",
   "execution_count": 94,
   "metadata": {},
   "outputs": [
    {
     "name": "stdout",
     "output_type": "stream",
     "text": [
      "1\n",
      "1\n",
      "2\n",
      "3\n",
      "5\n",
      "8\n",
      "13\n",
      "21\n",
      "34\n",
      "55\n"
     ]
    }
   ],
   "source": [
    "for y in fibo(10):\n",
    "    print(y)"
   ]
  },
  {
   "cell_type": "code",
   "execution_count": 1,
   "metadata": {},
   "outputs": [
    {
     "name": "stdout",
     "output_type": "stream",
     "text": [
      "2\n",
      "5 0\n",
      "Error:  integer division or modulo by zero\n",
      "4 2\n",
      "2\n"
     ]
    }
   ],
   "source": [
    "#error\n",
    "N=int(input())\n",
    "for n in range(N):\n",
    "    try:\n",
    "        z = input()\n",
    "        zz = z.split()\n",
    "        newlist = [int(num) for num in zz]\n",
    "        a,b = newlist\n",
    "        print(a//b)\n",
    "    except Exception as e:\n",
    "        print('Error: ', e)"
   ]
  },
  {
   "cell_type": "code",
   "execution_count": 1,
   "metadata": {},
   "outputs": [],
   "source": [
    "def count_substring(string, sub_string):\n",
    "    l = len(string)\n",
    "    ll = len(sub_string)\n",
    "    x = 0\n",
    "    y=0\n",
    "    nn,mm='',''\n",
    "    for name in range(0,l):\n",
    "        print(string[name])\n",
    "        print(sub_string[0])\n",
    "        if string[name] == sub_string[0]:\n",
    "            nn = nn + string[name]\n",
    "            mm = mm + sub_string[0+y]\n",
    "            x = x + 1\n",
    "            y=y+1\n",
    "    xx=0    \n",
    "    for gg in range(len(mm)):\n",
    "        if mm in string:\n",
    "            xx= xx+1\n",
    "    print(mm)\n",
    "    print(nn)\n",
    "    print(xx)\n",
    "    return x"
   ]
  },
  {
   "cell_type": "code",
   "execution_count": 2,
   "metadata": {},
   "outputs": [
    {
     "name": "stdout",
     "output_type": "stream",
     "text": [
      "A\n",
      "C\n",
      "B\n",
      "C\n",
      "C\n",
      "C\n",
      "D\n",
      "C\n",
      "C\n",
      "C\n",
      "D\n",
      "C\n",
      "C\n",
      "C\n",
      "CDC\n",
      "CCC\n",
      "3\n"
     ]
    },
    {
     "data": {
      "text/plain": [
       "3"
      ]
     },
     "execution_count": 2,
     "metadata": {},
     "output_type": "execute_result"
    }
   ],
   "source": [
    "count_substring(string='ABCDCDC',sub_string='CDC')"
   ]
  },
  {
   "cell_type": "code",
   "execution_count": 32,
   "metadata": {},
   "outputs": [
    {
     "data": {
      "text/plain": [
       "Counter({'d': 3, 'a': 5, 'f': 3, 'g': 2, 'h': 1, 'k': 1, 'j': 2})"
      ]
     },
     "execution_count": 32,
     "metadata": {},
     "output_type": "execute_result"
    }
   ],
   "source": [
    "from collections import Counter\n",
    "s = 'dafagdhakdjfafjag'\n",
    "Counter(s)"
   ]
  },
  {
   "cell_type": "code",
   "execution_count": 4,
   "metadata": {},
   "outputs": [
    {
     "data": {
      "text/plain": [
       "dict_values([3, 5, 3, 2, 1, 1, 2])"
      ]
     },
     "execution_count": 4,
     "metadata": {},
     "output_type": "execute_result"
    }
   ],
   "source": [
    "Counter(s).values()"
   ]
  },
  {
   "cell_type": "code",
   "execution_count": 7,
   "metadata": {},
   "outputs": [
    {
     "name": "stdout",
     "output_type": "stream",
     "text": [
      "01:27:03\n"
     ]
    }
   ],
   "source": [
    "#datetime\n",
    "import datetime\n",
    "\n",
    "t = datetime.time(1,27,3)\n",
    "print(t)"
   ]
  },
  {
   "cell_type": "code",
   "execution_count": 27,
   "metadata": {},
   "outputs": [
    {
     "data": {
      "text/plain": [
       "27"
      ]
     },
     "execution_count": 27,
     "metadata": {},
     "output_type": "execute_result"
    }
   ],
   "source": [
    "t.minute"
   ]
  },
  {
   "cell_type": "code",
   "execution_count": 29,
   "metadata": {},
   "outputs": [
    {
     "name": "stdout",
     "output_type": "stream",
     "text": [
      "2019-06-27\n"
     ]
    }
   ],
   "source": [
    "today = datetime.date.today()\n",
    "print(today)"
   ]
  },
  {
   "cell_type": "code",
   "execution_count": 34,
   "metadata": {},
   "outputs": [
    {
     "data": {
      "text/plain": [
       "27"
      ]
     },
     "execution_count": 34,
     "metadata": {},
     "output_type": "execute_result"
    }
   ],
   "source": [
    "today.day"
   ]
  },
  {
   "cell_type": "code",
   "execution_count": null,
   "metadata": {},
   "outputs": [],
   "source": [
    "#debugger\n",
    "import pdb\n",
    "\n",
    "x = [1,3,4]\n",
    "y = 2\n",
    "z = 3\n",
    "\n",
    "result = y + z\n",
    "print(result)\n",
    "\n",
    "# Set a trace using Python Debugger\n",
    "pdb.set_trace()\n",
    "\n",
    "result2 = y+x\n",
    "print(result2)"
   ]
  },
  {
   "cell_type": "code",
   "execution_count": 2,
   "metadata": {},
   "outputs": [],
   "source": [
    "# Advanced Numbers\n",
    "def Number(number):\n",
    "    \n",
    "    for num in range(1,number+1):\n",
    "        \n",
    "        ws = str(bin(number))\n",
    "        ws = len(ws[2:])\n",
    "        \n",
    "        octa = str(oct(num))\n",
    "        octa = octa[2:]\n",
    "        hexa = str(hex(num))\n",
    "        hexa = hexa[2:].upper()\n",
    "        bina = str(bin(num))\n",
    "        bina = bina[2:]\n",
    "        \n",
    "        print(\"{:>{}} {:>{}} {:>{}} {:>{}}\".format(num,ws,octa,ws,hexa,ws,bina,ws))\n",
    "        "
   ]
  },
  {
   "cell_type": "code",
   "execution_count": 3,
   "metadata": {},
   "outputs": [
    {
     "name": "stdout",
     "output_type": "stream",
     "text": [
      "    1     1     1     1\n",
      "    2     2     2    10\n",
      "    3     3     3    11\n",
      "    4     4     4   100\n",
      "    5     5     5   101\n",
      "    6     6     6   110\n",
      "    7     7     7   111\n",
      "    8    10     8  1000\n",
      "    9    11     9  1001\n",
      "   10    12     A  1010\n",
      "   11    13     B  1011\n",
      "   12    14     C  1100\n",
      "   13    15     D  1101\n",
      "   14    16     E  1110\n",
      "   15    17     F  1111\n",
      "   16    20    10 10000\n",
      "   17    21    11 10001\n",
      "   18    22    12 10010\n",
      "   19    23    13 10011\n",
      "   20    24    14 10100\n",
      "   21    25    15 10101\n",
      "   22    26    16 10110\n",
      "   23    27    17 10111\n",
      "   24    30    18 11000\n",
      "   25    31    19 11001\n"
     ]
    }
   ],
   "source": [
    "Number(25)"
   ]
  },
  {
   "cell_type": "code",
   "execution_count": 199,
   "metadata": {},
   "outputs": [
    {
     "name": "stdout",
     "output_type": "stream",
     "text": [
      "5\n",
      "1 2 3 4 5\n",
      "['1', '2', '3', '4', '5']\n",
      "10\n",
      "1 2 3 4\n",
      "['1', '2', '3', '4']\n",
      "0\n",
      "{'1'}\n",
      "1\n",
      "{'1', '2'}\n",
      "2\n",
      "{'3', '1', '2'}\n",
      "3\n",
      "{'3', '1', '2', '4'}\n",
      "4\n",
      "{'5', '1', '2', '3', '4'}\n",
      "0\n",
      "1\n",
      "2\n",
      "3\n",
      "{'5', '1', '2', '3', '4'}\n",
      "{'3', '1', '2', '4'}\n",
      "4\n"
     ]
    }
   ],
   "source": [
    "#sets intersection\n",
    "\n",
    "a = int(input())\n",
    "ab = str(input())\n",
    "abl = ab.split()\n",
    "print(abl)\n",
    "\n",
    "b = int(input())\n",
    "bb = (input())\n",
    "bbl = bb.split()\n",
    "print(bbl)\n",
    "\n",
    "set1 = set()\n",
    "set2 = set()\n",
    "\n",
    "for name in range(len(abl)):\n",
    "    print(name)\n",
    "    set1.add(abl[name])\n",
    "    print(set1)\n",
    "\n",
    "for name in range(bbl):\n",
    "    print(name)\n",
    "    set2.add(bbl[name])\n",
    "    \n",
    "print(set1)\n",
    "print(set2)\n",
    "\n",
    "print(len(set1.intersection(set2)))"
   ]
  },
  {
   "cell_type": "code",
   "execution_count": null,
   "metadata": {},
   "outputs": [],
   "source": [
    "#AVERAGE\n",
    "N = int(input())\n",
    "\n",
    "avg = []\n",
    "\n",
    "x = 0        \n",
    "while x<N:\n",
    "    \n",
    "   \n",
    "    \n",
    "    namemarks = input()\n",
    "    \n",
    "    namemarks = namemarks.split()\n",
    "    \n",
    "    SName=namemarks.pop(0)\n",
    "    \n",
    "    \n",
    "    marks = namemarks\n",
    "    \n",
    "    print(SName)\n",
    "    print(marks)\n",
    "    \n",
    "    MarksList = []\n",
    "    \n",
    "    for name in marks:\n",
    "        MarksList.append(float(name))\n",
    "        \n",
    "    average = (MarksList[0]+MarksList[1]+MarksList[2])/3\n",
    "    avg.append(round(average,2))\n",
    "    \n",
    "   \n",
    "    \n",
    "    x = x + 1\n",
    "    \n",
    "MarksList = [] \n",
    "\n",
    "\n",
    "\n",
    "print(avg)\n",
    "\n",
    "\n",
    "    "
   ]
  },
  {
   "cell_type": "code",
   "execution_count": 23,
   "metadata": {},
   "outputs": [
    {
     "name": "stdout",
     "output_type": "stream",
     "text": [
      "2\n",
      "x**3+x**2+x+3\n",
      "*\n",
      "<class 'str'>\n",
      "['2', '*', '*', '3', '+', '2', '*', '*', '2', '+', '2', '+', '3']\n"
     ]
    },
    {
     "ename": "ValueError",
     "evalue": "invalid literal for int() with base 10: '2**3+2**2+2+3'",
     "output_type": "error",
     "traceback": [
      "\u001b[1;31m---------------------------------------------------------------------------\u001b[0m",
      "\u001b[1;31mValueError\u001b[0m                                Traceback (most recent call last)",
      "\u001b[1;32m<ipython-input-23-8e6cb13999e2>\u001b[0m in \u001b[0;36m<module>\u001b[1;34m()\u001b[0m\n\u001b[0;32m     15\u001b[0m \u001b[1;33m\u001b[0m\u001b[0m\n\u001b[0;32m     16\u001b[0m \u001b[0mnewp\u001b[0m \u001b[1;33m=\u001b[0m \u001b[1;34m''\u001b[0m\u001b[1;33m.\u001b[0m\u001b[0mjoin\u001b[0m\u001b[1;33m(\u001b[0m\u001b[0mnewlist\u001b[0m\u001b[1;33m)\u001b[0m\u001b[1;33m\u001b[0m\u001b[0m\n\u001b[1;32m---> 17\u001b[1;33m \u001b[0mnewpp\u001b[0m \u001b[1;33m=\u001b[0m \u001b[0mint\u001b[0m\u001b[1;33m(\u001b[0m\u001b[0mnewp\u001b[0m\u001b[1;33m)\u001b[0m\u001b[1;33m\u001b[0m\u001b[0m\n\u001b[0m\u001b[0;32m     18\u001b[0m \u001b[0mprint\u001b[0m\u001b[1;33m(\u001b[0m\u001b[0mnewp\u001b[0m\u001b[1;33m)\u001b[0m\u001b[1;33m\u001b[0m\u001b[0m\n",
      "\u001b[1;31mValueError\u001b[0m: invalid literal for int() with base 10: '2**3+2**2+2+3'"
     ]
    }
   ],
   "source": [
    "#polynomial\n",
    "val = int(input())\n",
    "p = input()\n",
    "newlist = []\n",
    "print(p[1])\n",
    "print(type(p))\n",
    "\n",
    "for num in range(len(p)):\n",
    "    char = p[num]\n",
    "    if(char == 'x'):newlist.append(str(val))\n",
    "        \n",
    "    else:newlist.append(char)\n",
    "        \n",
    "print(newlist)\n",
    "\n",
    "newp = ''.join(newlist)\n",
    "newpp = int(newp)\n",
    "print(newp)\n",
    "\n"
   ]
  },
  {
   "cell_type": "code",
   "execution_count": 1,
   "metadata": {},
   "outputs": [
    {
     "name": "stdout",
     "output_type": "stream",
     "text": [
      "sagarvermaiskool\n",
      "2\n",
      "sa\n",
      "ga\n",
      "rv\n",
      "er\n",
      "ma\n",
      "is\n",
      "ko\n",
      "ol\n"
     ]
    }
   ],
   "source": [
    "#WrapText\n",
    "import textwrap\n",
    "\n",
    "value = input()\n",
    "w = int(input())\n",
    "wrap = textwrap.TextWrapper(width=w)\n",
    "wrapper = wrap.fill(text=value)\n",
    "w = \"\"\n",
    "for num in wrapper:\n",
    "    w = w + num\n",
    "print(w)"
   ]
  },
  {
   "cell_type": "code",
   "execution_count": 10,
   "metadata": {},
   "outputs": [
    {
     "name": "stdout",
     "output_type": "stream",
     "text": [
      "11 33\n",
      "---------------.|.---------------\n",
      "------------.|..|..|.------------\n",
      "---------.|..|..|..|..|.---------\n",
      "------.|..|..|..|..|..|..|.------\n",
      "---.|..|..|..|..|..|..|..|..|.---\n",
      "-------------WELCOME-------------\n",
      "---.|..|..|..|..|..|..|..|..|.---\n",
      "------.|..|..|..|..|..|..|.------\n",
      "---------.|..|..|..|..|.---------\n",
      "------------.|..|..|.------------\n",
      "---------------.|.---------------\n"
     ]
    }
   ],
   "source": [
    "#Designer Door Mat\n",
    "li = input()\n",
    "list1 = (li.split())\n",
    "nl = [int(x) for x in list1]\n",
    "n,m = nl[0],nl[1]\n",
    "\n",
    "#top part\n",
    "for num in range(1,n):\n",
    "    k = \".|.\"*num\n",
    "    width = m\n",
    "    if(num%2==0):\n",
    "        continue\n",
    "    print (k.center(width,'-'))\n",
    "    \n",
    "#middle part  \n",
    "print('WELCOME'.center(width,\"-\"))\n",
    "\n",
    "#bottom part\n",
    "xy = n-1\n",
    "while xy>0:\n",
    "    k2 = \".|.\"*xy\n",
    "    width = m\n",
    "    xy = xy-1\n",
    "    if(xy%2!=0):\n",
    "        continue\n",
    "    print (k2.center(width,'-'))"
   ]
  },
  {
   "cell_type": "code",
   "execution_count": 11,
   "metadata": {},
   "outputs": [
    {
     "name": "stdout",
     "output_type": "stream",
     "text": [
      "500 300 145780\n",
      "145780\n"
     ]
    }
   ],
   "source": [
    "#Greatest of 3 numbers\n",
    "n = input().split()   \n",
    "num = [int(nums) for nums in n]\n",
    "\n",
    "if(num[0]>num[1] and num[0]>num[2]):print(num[0])\n",
    "elif(num[1]>num[2]):print(num[1])\n",
    "else:print(num[2])\n",
    "\n",
    "    \n"
   ]
  },
  {
   "cell_type": "code",
   "execution_count": 18,
   "metadata": {},
   "outputs": [
    {
     "name": "stdout",
     "output_type": "stream",
     "text": [
      "([20, 19, 18, 17, 16, 15, 14, 13, 12, 11, 10, 9, 8, 7, 6, 5, 4, 3, 2, 1, 0], 21)\n",
      "\n",
      "\n",
      "[0, 1, 2, 3, 4, 5, 6, 7, 8, 9, 10, 11, 12, 13, 14, 15, 16, 17, 18, 19, 20]\n",
      "[20, 19, 18, 17, 16, 15, 14, 13, 12, 11, 10, 9, 8, 7, 6, 5, 4, 3, 2, 1, 0]\n"
     ]
    }
   ],
   "source": [
    "#Bubble sort\n",
    "ul = [num for num in range(0,21)]\n",
    "newl = []\n",
    "x=len(ul)-1\n",
    "while(x>=0):\n",
    "    newl.append(ul[x])\n",
    "    x-=1\n",
    "\n",
    "print(f\"{newl,len(newl)}\\n\\n\")\n",
    "\n",
    "#ascending order\n",
    "index = 0\n",
    "while(index<len(newl)-1):\n",
    "    i=0\n",
    "    \n",
    "    while(i<len(newl)-1-index):    \n",
    "        if(newl[i+1]<newl[i]):\n",
    "            g=newl[i]\n",
    "            l=newl[i+1]\n",
    "            newl[i+1] = g\n",
    "            newl[i] = l\n",
    "        i+=1\n",
    "    index+=1\n",
    "    \n",
    "print(newl)\n",
    "#descending order\n",
    "index = 0\n",
    "while(index<len(newl)-1):\n",
    "    i=0\n",
    "    \n",
    "    while(i<len(newl)-1-index):    \n",
    "        if(newl[i+1]>newl[i]):\n",
    "            g=newl[i+1]\n",
    "            l=newl[i]\n",
    "            newl[i+1] = l\n",
    "            newl[i] = g\n",
    "        i+=1\n",
    "    index+=1\n",
    "    \n",
    "print(newl)\n"
   ]
  },
  {
   "cell_type": "code",
   "execution_count": 74,
   "metadata": {},
   "outputs": [
    {
     "name": "stdout",
     "output_type": "stream",
     "text": [
      "s a\n",
      "['s', 'a']\n",
      "\n",
      "\n",
      "['a', 's']\n"
     ]
    }
   ],
   "source": [
    "namel = input().split()\n",
    "print(namel)\n",
    "print(\"\\n\")\n",
    "lenn = len(namel)-1\n",
    "x=0\n",
    "\n",
    "while(x<lenn):\n",
    "    i=0\n",
    "    \n",
    "    while(i<(lenn-x)):\n",
    "        if(namel[i+1]<namel[i]):\n",
    "            g=namel[i]\n",
    "            l=namel[i+1]\n",
    "            namel[i+1] = g\n",
    "            namel[i] = l\n",
    "        i+=1\n",
    "    x+=1\n",
    "print(namel)\n",
    "        "
   ]
  },
  {
   "cell_type": "code",
   "execution_count": 5,
   "metadata": {},
   "outputs": [
    {
     "name": "stdout",
     "output_type": "stream",
     "text": [
      "9\n",
      "Position of element 9 is 3\n"
     ]
    }
   ],
   "source": [
    "#linear search\n",
    "#ul = [num for num in range(1,61)]\n",
    "ul = [5,15,20,9,25]\n",
    "newl = []\n",
    "x=len(ul)-1\n",
    "while(x>=0):\n",
    "    newl.append(ul[x])\n",
    "    x-=1\n",
    "key = int(input())\n",
    "e=0\n",
    "i=0\n",
    "while(e!=key):\n",
    "    e=ul[i]\n",
    "    if(key==e):print(f\"Position of element {key} is {i}\")\n",
    "    else:i+=1"
   ]
  },
  {
   "cell_type": "code",
   "execution_count": 10,
   "metadata": {},
   "outputs": [
    {
     "name": "stdout",
     "output_type": "stream",
     "text": [
      "Apple Apple PROPN NNP nsubj Xxxxx True False\n",
      "is be AUX VBZ aux xx True True\n",
      "looking look VERB VBG ROOT xxxx True False\n",
      "at at ADP IN prep xx True True\n",
      "buying buy VERB VBG pcomp xxxx True False\n",
      "U.K. U.K. PROPN NNP compound X.X. False False\n",
      "startup startup NOUN NN dobj xxxx True False\n",
      "for for ADP IN prep xxx True True\n",
      "$ $ SYM $ quantmod $ False False\n",
      "1 1 NUM CD compound d False False\n",
      "billion billion NUM CD pobj xxxx True False\n"
     ]
    }
   ],
   "source": [
    "import spacy\n",
    "\n",
    "nlp = spacy.load(\"en_core_web_sm\")\n",
    "doc = nlp(\"Apple is looking at buying U.K. startup for $1 billion\")\n",
    "\n",
    "for token in doc:\n",
    "    print(token.text, token.lemma_, token.pos_, token.tag_, token.dep_,\n",
    "            token.shape_, token.is_alpha, token.is_stop)"
   ]
  },
  {
   "cell_type": "code",
   "execution_count": 11,
   "metadata": {},
   "outputs": [
    {
     "name": "stdout",
     "output_type": "stream",
     "text": [
      "Apple 0 5 ORG\n",
      "U.K. 27 31 GPE\n",
      "$1 billion 44 54 MONEY\n"
     ]
    }
   ],
   "source": [
    "import spacy\n",
    "\n",
    "nlp = spacy.load(\"en_core_web_sm\")\n",
    "doc = nlp(\"Apple is looking at buying U.K. startup for $1 billion\")\n",
    "\n",
    "for ent in doc.ents:\n",
    "    print(ent.text, ent.start_char, ent.end_char, ent.label_)"
   ]
  },
  {
   "cell_type": "code",
   "execution_count": 6,
   "metadata": {},
   "outputs": [],
   "source": [
    "#linear search fn\n",
    "ul = [5,15,20,9,25]\n",
    "\n",
    "def lsearch(ul,key):\n",
    "    newl = []\n",
    "    x=len(ul)-1\n",
    "    while(x>=0):\n",
    "        newl.append(ul[x])\n",
    "        x-=1\n",
    "    e=0\n",
    "    i=0\n",
    "    while(e!=key):\n",
    "        e=ul[i]\n",
    "        if(key==e):print(f\"Position of element {key} is {i}\")\n",
    "        else:i+=1"
   ]
  },
  {
   "cell_type": "code",
   "execution_count": 7,
   "metadata": {},
   "outputs": [
    {
     "name": "stdout",
     "output_type": "stream",
     "text": [
      "Position of element 567 is 7\n"
     ]
    }
   ],
   "source": [
    "lsearch([4,5,67,35,35,678,35,567,34,6],567)"
   ]
  },
  {
   "cell_type": "code",
   "execution_count": 6,
   "metadata": {},
   "outputs": [
    {
     "name": "stdout",
     "output_type": "stream",
     "text": [
      "integer division or modulo by zero\n"
     ]
    }
   ],
   "source": [
    "try:\n",
    "    5//0\n",
    "except Exception as e:\n",
    "    print(e)\n",
    "    "
   ]
  },
  {
   "cell_type": "code",
   "execution_count": 5,
   "metadata": {},
   "outputs": [],
   "source": [
    "\n",
    "def swap(a,b):\n",
    "    c=b\n",
    "    b=a\n",
    "    a=c\n",
    "    print(a)\n",
    "    print(b)"
   ]
  },
  {
   "cell_type": "code",
   "execution_count": 19,
   "metadata": {},
   "outputs": [
    {
     "name": "stdout",
     "output_type": "stream",
     "text": [
      "10\n",
      "5\n",
      "\n",
      "\n",
      "5 \n",
      "10\n"
     ]
    }
   ],
   "source": [
    "a = 5\n",
    "b= 10\n",
    "swap(a,b)\n",
    "print(\"\\n\\n{} \\n{}\".format(a,b))"
   ]
  },
  {
   "cell_type": "code",
   "execution_count": 8,
   "metadata": {},
   "outputs": [],
   "source": [
    "#dictionary\n",
    "myDict = {\"key\":\"value\",2:\"two\",\"hundred\":100}"
   ]
  },
  {
   "cell_type": "code",
   "execution_count": 11,
   "metadata": {},
   "outputs": [
    {
     "name": "stdout",
     "output_type": "stream",
     "text": [
      "key value\n",
      "2 two\n",
      "hundred 100\n"
     ]
    }
   ],
   "source": [
    "for x in myDict:print(str(x) + \" \"+ str(myDict[x]))"
   ]
  },
  {
   "cell_type": "code",
   "execution_count": 16,
   "metadata": {},
   "outputs": [
    {
     "data": {
      "text/plain": [
       "100"
      ]
     },
     "execution_count": 16,
     "metadata": {},
     "output_type": "execute_result"
    }
   ],
   "source": [
    "myDict[\"hundred\"]"
   ]
  },
  {
   "cell_type": "code",
   "execution_count": null,
   "metadata": {},
   "outputs": [],
   "source": []
  }
 ],
 "metadata": {
  "kernelspec": {
   "display_name": "Python 3",
   "language": "python",
   "name": "python3"
  },
  "language_info": {
   "codemirror_mode": {
    "name": "ipython",
    "version": 3
   },
   "file_extension": ".py",
   "mimetype": "text/x-python",
   "name": "python",
   "nbconvert_exporter": "python",
   "pygments_lexer": "ipython3",
   "version": "3.7.3"
  }
 },
 "nbformat": 4,
 "nbformat_minor": 2
}
